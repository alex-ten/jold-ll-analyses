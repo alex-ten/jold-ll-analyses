# %% IMPORTS
import pandas as pd
import numpy as np
import seaborn as sns
import matplotlib.pyplot as plt
from matplotlib import style; style.use('seaborn-whitegrid')
from matplotlib.ticker import MaxNLocator
from IPython.display import display
import statsmodels.formula.api as smf
from scipy.stats import pearsonr, spearmanr

measures = [
    'srd',
    'sr',
    'wadSlope',
    'wadDiff'
]
cols = ['participant', 'session', 'forced'] + measures
trials = pd.read_csv('../data/clean/trials/summarized_pilot_sessions4.csv', index_col=None)
trials = trials.filter(items=cols)
trials = trials.set_index(['participant', 'session']).sort_index()
trials = trials.loc[trials.forced, :].drop(columns=['forced'])
trials = trials.reset_index()
# trials = trials.loc[(slice(None), [1,2]), :]

ans_df = pd.read_csv('../data/clean/answers/clean_answers.csv', index_col=None)
jolds = ans_df.loc[ans_df.inst.eq('jold')].set_index(['participant', 'session']).sort_index()
jolds = jolds.loc[jolds.qid.eq(1) | jolds.qid.eq(8), :]
jolds = jolds.reset_index().drop(columns=['inst'])
jolds = jolds.pivot(index=['participant', 'session'], columns='qid', values='value') - 6
jolds = jolds.reset_index()
print(f'{jolds.loc[:, 8].isna().sum()/jolds.shape[0]:.2f} rows are missing jold-8 ratings')

df = trials.merge(jolds, on=['participant', 'session'])
df = df.rename(columns={1: 'jold_R', 8: 'jold_P'})
plot_df = df.loc[~df.loc[:, 'jold_P'].isna(), :]
plot_df = plot_df.assign(
    jold_R = plot_df.jold_R.astype(int),
    jold_P = plot_df.jold_P.astype(int),
    jold_R_jitter = plot_df.jold_R + np.random.uniform(-.1, .1, plot_df.shape[0]),
    jold_P_jitter = plot_df.jold_P + np.random.uniform(-.1, .1, plot_df.shape[0])
)


# %% JOLD retro and prosp 
rc = {'axes.labelsize': 2, 'axes.titleweight': 'bold'}
fig, ax = plt.subplots(nrows=1, ncols=2, figsize=[8, 3])

with plt.rc_context(rc):
    for i, judgment in enumerate(['jold_R_jitter', 'jold_P_jitter']):
        ax[i].axvline(0, color='gray', ls='--', alpha=.5)
        sns.regplot(x='srd', y=judgment, data=plot_df, ax=ax[i], scatter_kws=dict(alpha=.5))
        ax[i].set_ylim(-5.5, 5.5)
        ax[i].set_yticks(np.arange(-5, 6))
        ax[i].set_yticklabels(np.arange(-5, 6).astype(str))

ax[0].set_xlabel('Success rate difference', fontsize=12)
ax[1].set_xlabel('Success rate difference', fontsize=12)
ax[0].set_ylabel('Rating', fontsize=12)
ax[1].set_ylabel('', fontsize=12)
ax[0].set_title('Retrospective improvement', fontsize=12)
ax[1].set_title('Prospective improvement', fontsize=12)
plt.savefig('../figs/jolds_and_srd.pdf')

#%%
m1 = smf.ols('jold_R ~ srd', data=df).fit()
m1.summary()
m2 = smf.ols('jold_P ~ srd', data=df).fit()
m2.summary()
m3 = smf.ols('jold_P ~ jold_R + srd', data=df).fit()
display(m2.summary())

n_improvers = len(df.loc[df.sr.eq(0) & df.jold_R.gt(0), 'participant'].unique())
n_total = len(df.participant.unique())
print(f'{n_improvers}/{n_total} = {n_improvers/n_total} reported improvement without an increase in success rate')
# %%